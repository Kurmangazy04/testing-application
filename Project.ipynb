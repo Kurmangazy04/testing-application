{
 "cells": [
  {
   "cell_type": "code",
   "execution_count": 1,
   "id": "8dde6d3f",
   "metadata": {
    "_cell_guid": "b1076dfc-b9ad-4769-8c92-a6c4dae69d19",
    "_uuid": "8f2839f25d086af736a60e9eeb907d3b93b6e0e5",
    "execution": {
     "iopub.execute_input": "2024-05-19T09:40:29.289840Z",
     "iopub.status.busy": "2024-05-19T09:40:29.289445Z",
     "iopub.status.idle": "2024-05-19T09:40:30.164940Z",
     "shell.execute_reply": "2024-05-19T09:40:30.163822Z"
    },
    "papermill": {
     "duration": 0.886284,
     "end_time": "2024-05-19T09:40:30.168355",
     "exception": false,
     "start_time": "2024-05-19T09:40:29.282071",
     "status": "completed"
    },
    "tags": []
   },
   "outputs": [
    {
     "name": "stdout",
     "output_type": "stream",
     "text": [
      "/kaggle/input/fake-news/submit.csv\n",
      "/kaggle/input/fake-news/train.csv\n",
      "/kaggle/input/fake-news/test.csv\n"
     ]
    }
   ],
   "source": [
    "# This Python 3 environment comes with many helpful analytics libraries installed\n",
    "# It is defined by the kaggle/python Docker image: https://github.com/kaggle/docker-python\n",
    "# For example, here's several helpful packages to load\n",
    "\n",
    "import numpy as np # linear algebra\n",
    "import pandas as pd # data processing, CSV file I/O (e.g. pd.read_csv)\n",
    "\n",
    "# Input data files are available in the read-only \"../input/\" directory\n",
    "# For example, running this (by clicking run or pressing Shift+Enter) will list all files under the input directory\n",
    "\n",
    "import os\n",
    "for dirname, _, filenames in os.walk('/kaggle/input'):\n",
    "    for filename in filenames:\n",
    "        print(os.path.join(dirname, filename))\n",
    "\n",
    "# You can write up to 20GB to the current directory (/kaggle/working/) that gets preserved as output when you create a version using \"Save & Run All\" \n",
    "# You can also write temporary files to /kaggle/temp/, but they won't be saved outside of the current session"
   ]
  },
  {
   "cell_type": "code",
   "execution_count": 2,
   "id": "d51f4253",
   "metadata": {
    "execution": {
     "iopub.execute_input": "2024-05-19T09:40:30.181875Z",
     "iopub.status.busy": "2024-05-19T09:40:30.181374Z",
     "iopub.status.idle": "2024-05-19T09:40:32.084893Z",
     "shell.execute_reply": "2024-05-19T09:40:32.083751Z"
    },
    "papermill": {
     "duration": 1.913616,
     "end_time": "2024-05-19T09:40:32.087785",
     "exception": false,
     "start_time": "2024-05-19T09:40:30.174169",
     "status": "completed"
    },
    "tags": []
   },
   "outputs": [],
   "source": [
    "import pandas as pd\n",
    "import numpy as np\n",
    "import re\n",
    "import nltk"
   ]
  },
  {
   "cell_type": "code",
   "execution_count": 3,
   "id": "5e7a19f9",
   "metadata": {
    "execution": {
     "iopub.execute_input": "2024-05-19T09:40:32.100531Z",
     "iopub.status.busy": "2024-05-19T09:40:32.100169Z",
     "iopub.status.idle": "2024-05-19T09:40:34.792999Z",
     "shell.execute_reply": "2024-05-19T09:40:34.792114Z"
    },
    "papermill": {
     "duration": 2.701881,
     "end_time": "2024-05-19T09:40:34.795318",
     "exception": false,
     "start_time": "2024-05-19T09:40:32.093437",
     "status": "completed"
    },
    "tags": []
   },
   "outputs": [
    {
     "data": {
      "text/html": [
       "<div>\n",
       "<style scoped>\n",
       "    .dataframe tbody tr th:only-of-type {\n",
       "        vertical-align: middle;\n",
       "    }\n",
       "\n",
       "    .dataframe tbody tr th {\n",
       "        vertical-align: top;\n",
       "    }\n",
       "\n",
       "    .dataframe thead th {\n",
       "        text-align: right;\n",
       "    }\n",
       "</style>\n",
       "<table border=\"1\" class=\"dataframe\">\n",
       "  <thead>\n",
       "    <tr style=\"text-align: right;\">\n",
       "      <th></th>\n",
       "      <th>id</th>\n",
       "      <th>title</th>\n",
       "      <th>author</th>\n",
       "      <th>text</th>\n",
       "      <th>label</th>\n",
       "    </tr>\n",
       "  </thead>\n",
       "  <tbody>\n",
       "    <tr>\n",
       "      <th>0</th>\n",
       "      <td>0</td>\n",
       "      <td>House Dem Aide: We Didn’t Even See Comey’s Let...</td>\n",
       "      <td>Darrell Lucus</td>\n",
       "      <td>House Dem Aide: We Didn’t Even See Comey’s Let...</td>\n",
       "      <td>1</td>\n",
       "    </tr>\n",
       "    <tr>\n",
       "      <th>1</th>\n",
       "      <td>1</td>\n",
       "      <td>FLYNN: Hillary Clinton, Big Woman on Campus - ...</td>\n",
       "      <td>Daniel J. Flynn</td>\n",
       "      <td>Ever get the feeling your life circles the rou...</td>\n",
       "      <td>0</td>\n",
       "    </tr>\n",
       "    <tr>\n",
       "      <th>2</th>\n",
       "      <td>2</td>\n",
       "      <td>Why the Truth Might Get You Fired</td>\n",
       "      <td>Consortiumnews.com</td>\n",
       "      <td>Why the Truth Might Get You Fired October 29, ...</td>\n",
       "      <td>1</td>\n",
       "    </tr>\n",
       "    <tr>\n",
       "      <th>3</th>\n",
       "      <td>3</td>\n",
       "      <td>15 Civilians Killed In Single US Airstrike Hav...</td>\n",
       "      <td>Jessica Purkiss</td>\n",
       "      <td>Videos 15 Civilians Killed In Single US Airstr...</td>\n",
       "      <td>1</td>\n",
       "    </tr>\n",
       "    <tr>\n",
       "      <th>4</th>\n",
       "      <td>4</td>\n",
       "      <td>Iranian woman jailed for fictional unpublished...</td>\n",
       "      <td>Howard Portnoy</td>\n",
       "      <td>Print \\nAn Iranian woman has been sentenced to...</td>\n",
       "      <td>1</td>\n",
       "    </tr>\n",
       "  </tbody>\n",
       "</table>\n",
       "</div>"
      ],
      "text/plain": [
       "   id                                              title              author  \\\n",
       "0   0  House Dem Aide: We Didn’t Even See Comey’s Let...       Darrell Lucus   \n",
       "1   1  FLYNN: Hillary Clinton, Big Woman on Campus - ...     Daniel J. Flynn   \n",
       "2   2                  Why the Truth Might Get You Fired  Consortiumnews.com   \n",
       "3   3  15 Civilians Killed In Single US Airstrike Hav...     Jessica Purkiss   \n",
       "4   4  Iranian woman jailed for fictional unpublished...      Howard Portnoy   \n",
       "\n",
       "                                                text  label  \n",
       "0  House Dem Aide: We Didn’t Even See Comey’s Let...      1  \n",
       "1  Ever get the feeling your life circles the rou...      0  \n",
       "2  Why the Truth Might Get You Fired October 29, ...      1  \n",
       "3  Videos 15 Civilians Killed In Single US Airstr...      1  \n",
       "4  Print \\nAn Iranian woman has been sentenced to...      1  "
      ]
     },
     "execution_count": 3,
     "metadata": {},
     "output_type": "execute_result"
    }
   ],
   "source": [
    "df=pd.read_csv('/kaggle/input/fake-news/train.csv')\n",
    "df.head()"
   ]
  },
  {
   "cell_type": "code",
   "execution_count": 4,
   "id": "df65f802",
   "metadata": {
    "execution": {
     "iopub.execute_input": "2024-05-19T09:40:34.809311Z",
     "iopub.status.busy": "2024-05-19T09:40:34.808625Z",
     "iopub.status.idle": "2024-05-19T09:40:34.816194Z",
     "shell.execute_reply": "2024-05-19T09:40:34.815230Z"
    },
    "papermill": {
     "duration": 0.017187,
     "end_time": "2024-05-19T09:40:34.818485",
     "exception": false,
     "start_time": "2024-05-19T09:40:34.801298",
     "status": "completed"
    },
    "tags": []
   },
   "outputs": [
    {
     "data": {
      "text/plain": [
       "'House Dem Aide: We Didn’t Even See Comey’s Letter Until Jason Chaffetz Tweeted It By Darrell Lucus on October 30, 2016 Subscribe Jason Chaffetz on the stump in American Fork, Utah ( image courtesy Michael Jolley, available under a Creative Commons-BY license) \\nWith apologies to Keith Olbermann, there is no doubt who the Worst Person in The World is this week–FBI Director James Comey. But according to a House Democratic aide, it looks like we also know who the second-worst person is as well. It turns out that when Comey sent his now-infamous letter announcing that the FBI was looking into emails that may be related to Hillary Clinton’s email server, the ranking Democrats on the relevant committees didn’t hear about it from Comey. They found out via a tweet from one of the Republican committee chairmen. \\nAs we now know, Comey notified the Republican chairmen and Democratic ranking members of the House Intelligence, Judiciary, and Oversight committees that his agency was reviewing emails it had recently discovered in order to see if they contained classified information. Not long after this letter went out, Oversight Committee Chairman Jason Chaffetz set the political world ablaze with this tweet. FBI Dir just informed me, \"The FBI has learned of the existence of emails that appear to be pertinent to the investigation.\" Case reopened \\n— Jason Chaffetz (@jasoninthehouse) October 28, 2016 \\nOf course, we now know that this was not the case . Comey was actually saying that it was reviewing the emails in light of “an unrelated case”–which we now know to be Anthony Weiner’s sexting with a teenager. But apparently such little things as facts didn’t matter to Chaffetz. The Utah Republican had already vowed to initiate a raft of investigations if Hillary wins–at least two years’ worth, and possibly an entire term’s worth of them. Apparently Chaffetz thought the FBI was already doing his work for him–resulting in a tweet that briefly roiled the nation before cooler heads realized it was a dud. \\nBut according to a senior House Democratic aide, misreading that letter may have been the least of Chaffetz’ sins. That aide told Shareblue that his boss and other Democrats didn’t even know about Comey’s letter at the time–and only found out when they checked Twitter. “Democratic Ranking Members on the relevant committees didn’t receive Comey’s letter until after the Republican Chairmen. In fact, the Democratic Ranking Members didn’ receive it until after the Chairman of the Oversight and Government Reform Committee, Jason Chaffetz, tweeted it out and made it public.” \\nSo let’s see if we’ve got this right. The FBI director tells Chaffetz and other GOP committee chairmen about a major development in a potentially politically explosive investigation, and neither Chaffetz nor his other colleagues had the courtesy to let their Democratic counterparts know about it. Instead, according to this aide, he made them find out about it on Twitter. \\nThere has already been talk on Daily Kos that Comey himself provided advance notice of this letter to Chaffetz and other Republicans, giving them time to turn on the spin machine. That may make for good theater, but there is nothing so far that even suggests this is the case. After all, there is nothing so far that suggests that Comey was anything other than grossly incompetent and tone-deaf. \\nWhat it does suggest, however, is that Chaffetz is acting in a way that makes Dan Burton and Darrell Issa look like models of responsibility and bipartisanship. He didn’t even have the decency to notify ranking member Elijah Cummings about something this explosive. If that doesn’t trample on basic standards of fairness, I don’t know what does. \\nGranted, it’s not likely that Chaffetz will have to answer for this. He sits in a ridiculously Republican district anchored in Provo and Orem; it has a Cook Partisan Voting Index of R+25, and gave Mitt Romney a punishing 78 percent of the vote in 2012. Moreover, the Republican House leadership has given its full support to Chaffetz’ planned fishing expedition. But that doesn’t mean we can’t turn the hot lights on him. After all, he is a textbook example of what the House has become under Republican control. And he is also the Second Worst Person in the World. About Darrell Lucus \\nDarrell is a 30-something graduate of the University of North Carolina who considers himself a journalist of the old school. An attempt to turn him into a member of the religious right in college only succeeded in turning him into the religious right\\'s worst nightmare--a charismatic Christian who is an unapologetic liberal. His desire to stand up for those who have been scared into silence only increased when he survived an abusive three-year marriage. You may know him on Daily Kos as Christian Dem in NC . Follow him on Twitter @DarrellLucus or connect with him on Facebook . Click here to buy Darrell a Mello Yello. Connect'"
      ]
     },
     "execution_count": 4,
     "metadata": {},
     "output_type": "execute_result"
    }
   ],
   "source": [
    "df['text'][0]"
   ]
  },
  {
   "cell_type": "code",
   "execution_count": 5,
   "id": "f046a920",
   "metadata": {
    "execution": {
     "iopub.execute_input": "2024-05-19T09:40:34.835375Z",
     "iopub.status.busy": "2024-05-19T09:40:34.834694Z",
     "iopub.status.idle": "2024-05-19T09:40:34.848021Z",
     "shell.execute_reply": "2024-05-19T09:40:34.846791Z"
    },
    "papermill": {
     "duration": 0.026558,
     "end_time": "2024-05-19T09:40:34.851004",
     "exception": false,
     "start_time": "2024-05-19T09:40:34.824446",
     "status": "completed"
    },
    "tags": []
   },
   "outputs": [],
   "source": [
    "df=df.drop(columns=['id','title','author'],axis=1)"
   ]
  },
  {
   "cell_type": "code",
   "execution_count": 6,
   "id": "2d88660e",
   "metadata": {
    "execution": {
     "iopub.execute_input": "2024-05-19T09:40:34.869845Z",
     "iopub.status.busy": "2024-05-19T09:40:34.868994Z",
     "iopub.status.idle": "2024-05-19T09:40:34.888112Z",
     "shell.execute_reply": "2024-05-19T09:40:34.886540Z"
    },
    "papermill": {
     "duration": 0.032306,
     "end_time": "2024-05-19T09:40:34.892564",
     "exception": false,
     "start_time": "2024-05-19T09:40:34.860258",
     "status": "completed"
    },
    "tags": []
   },
   "outputs": [],
   "source": [
    "df=df.dropna(axis=0)"
   ]
  },
  {
   "cell_type": "code",
   "execution_count": 7,
   "id": "90faec56",
   "metadata": {
    "execution": {
     "iopub.execute_input": "2024-05-19T09:40:34.912929Z",
     "iopub.status.busy": "2024-05-19T09:40:34.911879Z",
     "iopub.status.idle": "2024-05-19T09:40:34.930036Z",
     "shell.execute_reply": "2024-05-19T09:40:34.928290Z"
    },
    "papermill": {
     "duration": 0.03196,
     "end_time": "2024-05-19T09:40:34.933695",
     "exception": false,
     "start_time": "2024-05-19T09:40:34.901735",
     "status": "completed"
    },
    "tags": []
   },
   "outputs": [],
   "source": [
    "from nltk.corpus import stopwords\n",
    "\n",
    "stop=stopwords.words('english')\n",
    "\n",
    "def cleanText(txt):\n",
    "    txt=txt.lower()\n",
    "    txt=' '.join([word for word in txt.split() if word not in (stop)])\n",
    "    txt=re.sub('[^A-Za-z0-9\\s]',' ',txt)\n",
    "    txt=re.sub('\\s',' ',txt)\n",
    "    return txt"
   ]
  },
  {
   "cell_type": "code",
   "execution_count": 8,
   "id": "8f4427a9",
   "metadata": {
    "execution": {
     "iopub.execute_input": "2024-05-19T09:40:34.950481Z",
     "iopub.status.busy": "2024-05-19T09:40:34.950028Z",
     "iopub.status.idle": "2024-05-19T09:41:17.804944Z",
     "shell.execute_reply": "2024-05-19T09:41:17.803892Z"
    },
    "papermill": {
     "duration": 42.86686,
     "end_time": "2024-05-19T09:41:17.807843",
     "exception": false,
     "start_time": "2024-05-19T09:40:34.940983",
     "status": "completed"
    },
    "tags": []
   },
   "outputs": [],
   "source": [
    "df['text']=df['text'].apply(cleanText)"
   ]
  },
  {
   "cell_type": "code",
   "execution_count": 9,
   "id": "3f1fcb07",
   "metadata": {
    "execution": {
     "iopub.execute_input": "2024-05-19T09:41:17.821764Z",
     "iopub.status.busy": "2024-05-19T09:41:17.821380Z",
     "iopub.status.idle": "2024-05-19T09:41:17.830500Z",
     "shell.execute_reply": "2024-05-19T09:41:17.829420Z"
    },
    "papermill": {
     "duration": 0.018848,
     "end_time": "2024-05-19T09:41:17.832836",
     "exception": false,
     "start_time": "2024-05-19T09:41:17.813988",
     "status": "completed"
    },
    "tags": []
   },
   "outputs": [
    {
     "data": {
      "text/plain": [
       "'house dem aide  didn t even see comey s letter jason chaffetz tweeted darrell lucus october 30  2016 subscribe jason chaffetz stump american fork  utah   image courtesy michael jolley  available creative commons by license  apologies keith olbermann  doubt worst person world week fbi director james comey  according house democratic aide  looks like also know second worst person well  turns comey sent now infamous letter announcing fbi looking emails may related hillary clinton s email server  ranking democrats relevant committees didn t hear comey  found via tweet one republican committee chairmen  know  comey notified republican chairmen democratic ranking members house intelligence  judiciary  oversight committees agency reviewing emails recently discovered order see contained classified information  long letter went out  oversight committee chairman jason chaffetz set political world ablaze tweet  fbi dir informed me   the fbi learned existence emails appear pertinent investigation   case reopened   jason chaffetz   jasoninthehouse  october 28  2016 course  know case   comey actually saying reviewing emails light  an unrelated case  which know anthony weiner s sexting teenager  apparently little things facts didn t matter chaffetz  utah republican already vowed initiate raft investigations hillary wins at least two years  worth  possibly entire term s worth them  apparently chaffetz thought fbi already work him resulting tweet briefly roiled nation cooler heads realized dud  according senior house democratic aide  misreading letter may least chaffetz  sins  aide told shareblue boss democrats didn t even know comey s letter time and found checked twitter   democratic ranking members relevant committees didn t receive comey s letter republican chairmen  fact  democratic ranking members didn  receive chairman oversight government reform committee  jason chaffetz  tweeted made public   let s see we ve got right  fbi director tells chaffetz gop committee chairmen major development potentially politically explosive investigation  neither chaffetz colleagues courtesy let democratic counterparts know it  instead  according aide  made find twitter  already talk daily kos comey provided advance notice letter chaffetz republicans  giving time turn spin machine  may make good theater  nothing far even suggests case  all  nothing far suggests comey anything grossly incompetent tone deaf  suggest  however  chaffetz acting way makes dan burton darrell issa look like models responsibility bipartisanship  didn t even decency notify ranking member elijah cummings something explosive  doesn t trample basic standards fairness  don t know does  granted  it s likely chaffetz answer this  sits ridiculously republican district anchored provo orem  cook partisan voting index r 25  gave mitt romney punishing 78 percent vote 2012  moreover  republican house leadership given full support chaffetz  planned fishing expedition  doesn t mean can t turn hot lights him  all  textbook example house become republican control  also second worst person world  darrell lucus darrell 30 something graduate university north carolina considers journalist old school  attempt turn member religious right college succeeded turning religious right s worst nightmare  a charismatic christian unapologetic liberal  desire stand scared silence increased survived abusive three year marriage  may know daily kos christian dem nc   follow twitter  darrelllucus connect facebook   click buy darrell mello yello  connect'"
      ]
     },
     "execution_count": 9,
     "metadata": {},
     "output_type": "execute_result"
    }
   ],
   "source": [
    "df['text'][0]"
   ]
  },
  {
   "cell_type": "code",
   "execution_count": 10,
   "id": "214976c8",
   "metadata": {
    "execution": {
     "iopub.execute_input": "2024-05-19T09:41:17.847232Z",
     "iopub.status.busy": "2024-05-19T09:41:17.846858Z",
     "iopub.status.idle": "2024-05-19T09:41:41.194324Z",
     "shell.execute_reply": "2024-05-19T09:41:41.193170Z"
    },
    "papermill": {
     "duration": 23.357888,
     "end_time": "2024-05-19T09:41:41.197001",
     "exception": false,
     "start_time": "2024-05-19T09:41:17.839113",
     "status": "completed"
    },
    "tags": []
   },
   "outputs": [
    {
     "name": "stderr",
     "output_type": "stream",
     "text": [
      "2024-05-19 09:41:19.933276: E external/local_xla/xla/stream_executor/cuda/cuda_dnn.cc:9261] Unable to register cuDNN factory: Attempting to register factory for plugin cuDNN when one has already been registered\n",
      "2024-05-19 09:41:19.933424: E external/local_xla/xla/stream_executor/cuda/cuda_fft.cc:607] Unable to register cuFFT factory: Attempting to register factory for plugin cuFFT when one has already been registered\n",
      "2024-05-19 09:41:20.099227: E external/local_xla/xla/stream_executor/cuda/cuda_blas.cc:1515] Unable to register cuBLAS factory: Attempting to register factory for plugin cuBLAS when one has already been registered\n"
     ]
    }
   ],
   "source": [
    "from tensorflow.keras.preprocessing.text import Tokenizer\n",
    "from tensorflow.keras.preprocessing.sequence import pad_sequences\n",
    "\n",
    "tokenizer=Tokenizer()\n",
    "tokenizer.fit_on_texts(df['text'])\n",
    "\n",
    "word_index=tokenizer.word_index\n",
    "\n",
    "vocab_size=len(word_index)"
   ]
  },
  {
   "cell_type": "code",
   "execution_count": 11,
   "id": "00121242",
   "metadata": {
    "execution": {
     "iopub.execute_input": "2024-05-19T09:41:41.211564Z",
     "iopub.status.busy": "2024-05-19T09:41:41.210898Z",
     "iopub.status.idle": "2024-05-19T09:41:48.519275Z",
     "shell.execute_reply": "2024-05-19T09:41:48.518348Z"
    },
    "papermill": {
     "duration": 7.318603,
     "end_time": "2024-05-19T09:41:48.521985",
     "exception": false,
     "start_time": "2024-05-19T09:41:41.203382",
     "status": "completed"
    },
    "tags": []
   },
   "outputs": [],
   "source": [
    "sent_length=500\n",
    "\n",
    "sequences=tokenizer.texts_to_sequences(df['text'])\n",
    "padded_seq=pad_sequences(sequences,maxlen=sent_length,padding='post',truncating='post')"
   ]
  },
  {
   "cell_type": "code",
   "execution_count": 12,
   "id": "47d962fd",
   "metadata": {
    "execution": {
     "iopub.execute_input": "2024-05-19T09:41:48.537857Z",
     "iopub.status.busy": "2024-05-19T09:41:48.537475Z",
     "iopub.status.idle": "2024-05-19T09:41:48.568100Z",
     "shell.execute_reply": "2024-05-19T09:41:48.567206Z"
    },
    "papermill": {
     "duration": 0.041198,
     "end_time": "2024-05-19T09:41:48.570692",
     "exception": false,
     "start_time": "2024-05-19T09:41:48.529494",
     "status": "completed"
    },
    "tags": []
   },
   "outputs": [],
   "source": [
    "from sklearn.model_selection import train_test_split\n",
    "X_train,X_test,y_train,y_test=train_test_split(padded_seq,df['label'],test_size=0.20,random_state=42,)"
   ]
  },
  {
   "cell_type": "code",
   "execution_count": 13,
   "id": "e726247b",
   "metadata": {
    "execution": {
     "iopub.execute_input": "2024-05-19T09:41:48.585141Z",
     "iopub.status.busy": "2024-05-19T09:41:48.584772Z",
     "iopub.status.idle": "2024-05-19T10:03:03.332927Z",
     "shell.execute_reply": "2024-05-19T10:03:03.331137Z"
    },
    "papermill": {
     "duration": 1274.758462,
     "end_time": "2024-05-19T10:03:03.335433",
     "exception": false,
     "start_time": "2024-05-19T09:41:48.576971",
     "status": "completed"
    },
    "tags": []
   },
   "outputs": [
    {
     "name": "stderr",
     "output_type": "stream",
     "text": [
      "/opt/conda/lib/python3.10/site-packages/keras/src/layers/core/embedding.py:86: UserWarning: Argument `input_length` is deprecated. Just remove it.\n",
      "  warnings.warn(\n"
     ]
    },
    {
     "data": {
      "text/html": [
       "<pre style=\"white-space:pre;overflow-x:auto;line-height:normal;font-family:Menlo,'DejaVu Sans Mono',consolas,'Courier New',monospace\"><span style=\"font-weight: bold\">Model: \"sequential\"</span>\n",
       "</pre>\n"
      ],
      "text/plain": [
       "\u001b[1mModel: \"sequential\"\u001b[0m\n"
      ]
     },
     "metadata": {},
     "output_type": "display_data"
    },
    {
     "data": {
      "text/html": [
       "<pre style=\"white-space:pre;overflow-x:auto;line-height:normal;font-family:Menlo,'DejaVu Sans Mono',consolas,'Courier New',monospace\">┏━━━━━━━━━━━━━━━━━━━━━━━━━━━━━━━━━┳━━━━━━━━━━━━━━━━━━━━━━━━┳━━━━━━━━━━━━━━━┓\n",
       "┃<span style=\"font-weight: bold\"> Layer (type)                    </span>┃<span style=\"font-weight: bold\"> Output Shape           </span>┃<span style=\"font-weight: bold\">       Param # </span>┃\n",
       "┡━━━━━━━━━━━━━━━━━━━━━━━━━━━━━━━━━╇━━━━━━━━━━━━━━━━━━━━━━━━╇━━━━━━━━━━━━━━━┩\n",
       "│ embedding (<span style=\"color: #0087ff; text-decoration-color: #0087ff\">Embedding</span>)           │ (<span style=\"color: #00d7ff; text-decoration-color: #00d7ff\">None</span>, <span style=\"color: #00af00; text-decoration-color: #00af00\">500</span>, <span style=\"color: #00af00; text-decoration-color: #00af00\">40</span>)        │     <span style=\"color: #00af00; text-decoration-color: #00af00\">6,083,920</span> │\n",
       "├─────────────────────────────────┼────────────────────────┼───────────────┤\n",
       "│ conv1d (<span style=\"color: #0087ff; text-decoration-color: #0087ff\">Conv1D</span>)                 │ (<span style=\"color: #00d7ff; text-decoration-color: #00d7ff\">None</span>, <span style=\"color: #00af00; text-decoration-color: #00af00\">500</span>, <span style=\"color: #00af00; text-decoration-color: #00af00\">32</span>)        │         <span style=\"color: #00af00; text-decoration-color: #00af00\">3,872</span> │\n",
       "├─────────────────────────────────┼────────────────────────┼───────────────┤\n",
       "│ max_pooling1d (<span style=\"color: #0087ff; text-decoration-color: #0087ff\">MaxPooling1D</span>)    │ (<span style=\"color: #00d7ff; text-decoration-color: #00d7ff\">None</span>, <span style=\"color: #00af00; text-decoration-color: #00af00\">250</span>, <span style=\"color: #00af00; text-decoration-color: #00af00\">32</span>)        │             <span style=\"color: #00af00; text-decoration-color: #00af00\">0</span> │\n",
       "├─────────────────────────────────┼────────────────────────┼───────────────┤\n",
       "│ bidirectional (<span style=\"color: #0087ff; text-decoration-color: #0087ff\">Bidirectional</span>)   │ (<span style=\"color: #00d7ff; text-decoration-color: #00d7ff\">None</span>, <span style=\"color: #00af00; text-decoration-color: #00af00\">200</span>)            │       <span style=\"color: #00af00; text-decoration-color: #00af00\">106,400</span> │\n",
       "├─────────────────────────────────┼────────────────────────┼───────────────┤\n",
       "│ dropout (<span style=\"color: #0087ff; text-decoration-color: #0087ff\">Dropout</span>)               │ (<span style=\"color: #00d7ff; text-decoration-color: #00d7ff\">None</span>, <span style=\"color: #00af00; text-decoration-color: #00af00\">200</span>)            │             <span style=\"color: #00af00; text-decoration-color: #00af00\">0</span> │\n",
       "├─────────────────────────────────┼────────────────────────┼───────────────┤\n",
       "│ dense (<span style=\"color: #0087ff; text-decoration-color: #0087ff\">Dense</span>)                   │ (<span style=\"color: #00d7ff; text-decoration-color: #00d7ff\">None</span>, <span style=\"color: #00af00; text-decoration-color: #00af00\">1</span>)              │           <span style=\"color: #00af00; text-decoration-color: #00af00\">201</span> │\n",
       "└─────────────────────────────────┴────────────────────────┴───────────────┘\n",
       "</pre>\n"
      ],
      "text/plain": [
       "┏━━━━━━━━━━━━━━━━━━━━━━━━━━━━━━━━━┳━━━━━━━━━━━━━━━━━━━━━━━━┳━━━━━━━━━━━━━━━┓\n",
       "┃\u001b[1m \u001b[0m\u001b[1mLayer (type)                   \u001b[0m\u001b[1m \u001b[0m┃\u001b[1m \u001b[0m\u001b[1mOutput Shape          \u001b[0m\u001b[1m \u001b[0m┃\u001b[1m \u001b[0m\u001b[1m      Param #\u001b[0m\u001b[1m \u001b[0m┃\n",
       "┡━━━━━━━━━━━━━━━━━━━━━━━━━━━━━━━━━╇━━━━━━━━━━━━━━━━━━━━━━━━╇━━━━━━━━━━━━━━━┩\n",
       "│ embedding (\u001b[38;5;33mEmbedding\u001b[0m)           │ (\u001b[38;5;45mNone\u001b[0m, \u001b[38;5;34m500\u001b[0m, \u001b[38;5;34m40\u001b[0m)        │     \u001b[38;5;34m6,083,920\u001b[0m │\n",
       "├─────────────────────────────────┼────────────────────────┼───────────────┤\n",
       "│ conv1d (\u001b[38;5;33mConv1D\u001b[0m)                 │ (\u001b[38;5;45mNone\u001b[0m, \u001b[38;5;34m500\u001b[0m, \u001b[38;5;34m32\u001b[0m)        │         \u001b[38;5;34m3,872\u001b[0m │\n",
       "├─────────────────────────────────┼────────────────────────┼───────────────┤\n",
       "│ max_pooling1d (\u001b[38;5;33mMaxPooling1D\u001b[0m)    │ (\u001b[38;5;45mNone\u001b[0m, \u001b[38;5;34m250\u001b[0m, \u001b[38;5;34m32\u001b[0m)        │             \u001b[38;5;34m0\u001b[0m │\n",
       "├─────────────────────────────────┼────────────────────────┼───────────────┤\n",
       "│ bidirectional (\u001b[38;5;33mBidirectional\u001b[0m)   │ (\u001b[38;5;45mNone\u001b[0m, \u001b[38;5;34m200\u001b[0m)            │       \u001b[38;5;34m106,400\u001b[0m │\n",
       "├─────────────────────────────────┼────────────────────────┼───────────────┤\n",
       "│ dropout (\u001b[38;5;33mDropout\u001b[0m)               │ (\u001b[38;5;45mNone\u001b[0m, \u001b[38;5;34m200\u001b[0m)            │             \u001b[38;5;34m0\u001b[0m │\n",
       "├─────────────────────────────────┼────────────────────────┼───────────────┤\n",
       "│ dense (\u001b[38;5;33mDense\u001b[0m)                   │ (\u001b[38;5;45mNone\u001b[0m, \u001b[38;5;34m1\u001b[0m)              │           \u001b[38;5;34m201\u001b[0m │\n",
       "└─────────────────────────────────┴────────────────────────┴───────────────┘\n"
      ]
     },
     "metadata": {},
     "output_type": "display_data"
    },
    {
     "data": {
      "text/html": [
       "<pre style=\"white-space:pre;overflow-x:auto;line-height:normal;font-family:Menlo,'DejaVu Sans Mono',consolas,'Courier New',monospace\"><span style=\"font-weight: bold\"> Total params: </span><span style=\"color: #00af00; text-decoration-color: #00af00\">6,194,393</span> (23.63 MB)\n",
       "</pre>\n"
      ],
      "text/plain": [
       "\u001b[1m Total params: \u001b[0m\u001b[38;5;34m6,194,393\u001b[0m (23.63 MB)\n"
      ]
     },
     "metadata": {},
     "output_type": "display_data"
    },
    {
     "data": {
      "text/html": [
       "<pre style=\"white-space:pre;overflow-x:auto;line-height:normal;font-family:Menlo,'DejaVu Sans Mono',consolas,'Courier New',monospace\"><span style=\"font-weight: bold\"> Trainable params: </span><span style=\"color: #00af00; text-decoration-color: #00af00\">6,194,393</span> (23.63 MB)\n",
       "</pre>\n"
      ],
      "text/plain": [
       "\u001b[1m Trainable params: \u001b[0m\u001b[38;5;34m6,194,393\u001b[0m (23.63 MB)\n"
      ]
     },
     "metadata": {},
     "output_type": "display_data"
    },
    {
     "data": {
      "text/html": [
       "<pre style=\"white-space:pre;overflow-x:auto;line-height:normal;font-family:Menlo,'DejaVu Sans Mono',consolas,'Courier New',monospace\"><span style=\"font-weight: bold\"> Non-trainable params: </span><span style=\"color: #00af00; text-decoration-color: #00af00\">0</span> (0.00 B)\n",
       "</pre>\n"
      ],
      "text/plain": [
       "\u001b[1m Non-trainable params: \u001b[0m\u001b[38;5;34m0\u001b[0m (0.00 B)\n"
      ]
     },
     "metadata": {},
     "output_type": "display_data"
    },
    {
     "name": "stdout",
     "output_type": "stream",
     "text": [
      "None\n",
      "Epoch 1/10\n",
      "\u001b[1m260/260\u001b[0m \u001b[32m━━━━━━━━━━━━━━━━━━━━\u001b[0m\u001b[37m\u001b[0m \u001b[1m107s\u001b[0m 394ms/step - accuracy: 0.7548 - loss: 0.4415 - val_accuracy: 0.9591 - val_loss: 0.1148\n",
      "Epoch 2/10\n",
      "\u001b[1m260/260\u001b[0m \u001b[32m━━━━━━━━━━━━━━━━━━━━\u001b[0m\u001b[37m\u001b[0m \u001b[1m141s\u001b[0m 391ms/step - accuracy: 0.9818 - loss: 0.0564 - val_accuracy: 0.9576 - val_loss: 0.1089\n",
      "Epoch 3/10\n",
      "\u001b[1m260/260\u001b[0m \u001b[32m━━━━━━━━━━━━━━━━━━━━\u001b[0m\u001b[37m\u001b[0m \u001b[1m103s\u001b[0m 396ms/step - accuracy: 0.9974 - loss: 0.0120 - val_accuracy: 0.9600 - val_loss: 0.1494\n",
      "Epoch 4/10\n",
      "\u001b[1m260/260\u001b[0m \u001b[32m━━━━━━━━━━━━━━━━━━━━\u001b[0m\u001b[37m\u001b[0m \u001b[1m141s\u001b[0m 392ms/step - accuracy: 0.9986 - loss: 0.0071 - val_accuracy: 0.9588 - val_loss: 0.1607\n",
      "Epoch 5/10\n",
      "\u001b[1m260/260\u001b[0m \u001b[32m━━━━━━━━━━━━━━━━━━━━\u001b[0m\u001b[37m\u001b[0m \u001b[1m142s\u001b[0m 393ms/step - accuracy: 0.9997 - loss: 0.0024 - val_accuracy: 0.9603 - val_loss: 0.1839\n",
      "Epoch 6/10\n",
      "\u001b[1m260/260\u001b[0m \u001b[32m━━━━━━━━━━━━━━━━━━━━\u001b[0m\u001b[37m\u001b[0m \u001b[1m143s\u001b[0m 397ms/step - accuracy: 0.9966 - loss: 0.0109 - val_accuracy: 0.9400 - val_loss: 0.2661\n",
      "Epoch 7/10\n",
      "\u001b[1m260/260\u001b[0m \u001b[32m━━━━━━━━━━━━━━━━━━━━\u001b[0m\u001b[37m\u001b[0m \u001b[1m140s\u001b[0m 390ms/step - accuracy: 0.9813 - loss: 0.0591 - val_accuracy: 0.9514 - val_loss: 0.1618\n",
      "Epoch 8/10\n",
      "\u001b[1m260/260\u001b[0m \u001b[32m━━━━━━━━━━━━━━━━━━━━\u001b[0m\u001b[37m\u001b[0m \u001b[1m142s\u001b[0m 392ms/step - accuracy: 0.9977 - loss: 0.0081 - val_accuracy: 0.9588 - val_loss: 0.1794\n",
      "Epoch 9/10\n",
      "\u001b[1m260/260\u001b[0m \u001b[32m━━━━━━━━━━━━━━━━━━━━\u001b[0m\u001b[37m\u001b[0m \u001b[1m103s\u001b[0m 394ms/step - accuracy: 0.9997 - loss: 0.0028 - val_accuracy: 0.9523 - val_loss: 0.2063\n",
      "Epoch 10/10\n",
      "\u001b[1m260/260\u001b[0m \u001b[32m━━━━━━━━━━━━━━━━━━━━\u001b[0m\u001b[37m\u001b[0m \u001b[1m102s\u001b[0m 392ms/step - accuracy: 0.9998 - loss: 0.0014 - val_accuracy: 0.9567 - val_loss: 0.2114\n",
      "\u001b[1m130/130\u001b[0m \u001b[32m━━━━━━━━━━━━━━━━━━━━\u001b[0m\u001b[37m\u001b[0m \u001b[1m8s\u001b[0m 64ms/step - accuracy: 0.9587 - loss: 0.1995\n",
      "Test Loss: 0.21142955124378204\n",
      "Test Accuracy: 0.9566578269004822\n"
     ]
    }
   ],
   "source": [
    "import numpy as np\n",
    "import pandas as pd\n",
    "import tensorflow as tf\n",
    "from tensorflow.keras.layers import Conv1D, MaxPooling1D, LSTM, Dropout, Dense, Embedding, Bidirectional\n",
    "from tensorflow.keras.models import Sequential\n",
    "from sklearn.model_selection import train_test_split\n",
    "\n",
    "embedding_vector_features = 40\n",
    "\n",
    "\n",
    "\n",
    "# Define and build the CNN-LSTM model\n",
    "model = Sequential()\n",
    "\n",
    "# Add embedding layer\n",
    "model.add(Embedding(input_dim=vocab_size, output_dim=embedding_vector_features, input_length=sent_length))\n",
    "\n",
    "# Add Conv1D layer\n",
    "model.add(Conv1D(filters=32, kernel_size=3, padding='same', activation='relu'))\n",
    "\n",
    "# Add MaxPooling1D layer\n",
    "model.add(MaxPooling1D(pool_size=2))\n",
    "\n",
    "# Add Bidirectional LSTM layer\n",
    "model.add(Bidirectional(LSTM(100)))\n",
    "\n",
    "# Add Dropout layer\n",
    "model.add(Dropout(0.3))\n",
    "\n",
    "# Add Dense output layer\n",
    "model.add(Dense(1, activation='sigmoid'))\n",
    "\n",
    "# Compile the model\n",
    "model.compile(loss='binary_crossentropy', optimizer='adam', metrics=['accuracy'])\n",
    "\n",
    "# Print model summary\n",
    "model.build(input_shape=(None, sent_length))\n",
    "print(model.summary())\n",
    "\n",
    "# Train the model\n",
    "history = model.fit(X_train, y_train, validation_data=(X_test, y_test), epochs=10, batch_size=64)\n",
    "\n",
    "# Evaluate the model on test data\n",
    "test_loss, test_accuracy = model.evaluate(X_test, y_test)\n",
    "print(f'Test Loss: {test_loss}')\n",
    "print(f'Test Accuracy: {test_accuracy}')\n"
   ]
  },
  {
   "cell_type": "code",
   "execution_count": null,
   "id": "4ac23285",
   "metadata": {
    "papermill": {
     "duration": 0.288289,
     "end_time": "2024-05-19T10:03:03.895886",
     "exception": false,
     "start_time": "2024-05-19T10:03:03.607597",
     "status": "completed"
    },
    "tags": []
   },
   "outputs": [],
   "source": []
  }
 ],
 "metadata": {
  "kaggle": {
   "accelerator": "none",
   "dataSources": [
    {
     "databundleVersionId": 109592,
     "sourceId": 8317,
     "sourceType": "competition"
    }
   ],
   "dockerImageVersionId": 30698,
   "isGpuEnabled": false,
   "isInternetEnabled": false,
   "language": "python",
   "sourceType": "notebook"
  },
  "kernelspec": {
   "display_name": "Python 3",
   "language": "python",
   "name": "python3"
  },
  "language_info": {
   "codemirror_mode": {
    "name": "ipython",
    "version": 3
   },
   "file_extension": ".py",
   "mimetype": "text/x-python",
   "name": "python",
   "nbconvert_exporter": "python",
   "pygments_lexer": "ipython3",
   "version": "3.10.13"
  },
  "papermill": {
   "default_parameters": {},
   "duration": 1360.862995,
   "end_time": "2024-05-19T10:03:07.236265",
   "environment_variables": {},
   "exception": null,
   "input_path": "__notebook__.ipynb",
   "output_path": "__notebook__.ipynb",
   "parameters": {},
   "start_time": "2024-05-19T09:40:26.373270",
   "version": "2.5.0"
  }
 },
 "nbformat": 4,
 "nbformat_minor": 5
}
