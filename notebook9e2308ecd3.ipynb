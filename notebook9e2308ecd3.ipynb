{
 "cells": [
  {
   "cell_type": "code",
   "execution_count": 1,
   "id": "6f0b88b1",
   "metadata": {
    "_cell_guid": "b1076dfc-b9ad-4769-8c92-a6c4dae69d19",
    "_uuid": "8f2839f25d086af736a60e9eeb907d3b93b6e0e5",
    "execution": {
     "iopub.execute_input": "2024-05-19T08:04:41.809395Z",
     "iopub.status.busy": "2024-05-19T08:04:41.808625Z",
     "iopub.status.idle": "2024-05-19T08:04:42.772816Z",
     "shell.execute_reply": "2024-05-19T08:04:42.771410Z"
    },
    "papermill": {
     "duration": 0.978924,
     "end_time": "2024-05-19T08:04:42.776038",
     "exception": false,
     "start_time": "2024-05-19T08:04:41.797114",
     "status": "completed"
    },
    "tags": []
   },
   "outputs": [
    {
     "name": "stdout",
     "output_type": "stream",
     "text": [
      "/kaggle/input/fake-news/submit.csv\n",
      "/kaggle/input/fake-news/train.csv\n",
      "/kaggle/input/fake-news/test.csv\n"
     ]
    }
   ],
   "source": [
    "# This Python 3 environment comes with many helpful analytics libraries installed\n",
    "# It is defined by the kaggle/python Docker image: https://github.com/kaggle/docker-python\n",
    "# For example, here's several helpful packages to load\n",
    "\n",
    "import numpy as np # linear algebra\n",
    "import pandas as pd # data processing, CSV file I/O (e.g. pd.read_csv)\n",
    "\n",
    "# Input data files are available in the read-only \"../input/\" directory\n",
    "# For example, running this (by clicking run or pressing Shift+Enter) will list all files under the input directory\n",
    "\n",
    "import os\n",
    "for dirname, _, filenames in os.walk('/kaggle/input'):\n",
    "    for filename in filenames:\n",
    "        print(os.path.join(dirname, filename))\n",
    "\n",
    "# You can write up to 20GB to the current directory (/kaggle/working/) that gets preserved as output when you create a version using \"Save & Run All\" \n",
    "# You can also write temporary files to /kaggle/temp/, but they won't be saved outside of the current session"
   ]
  },
  {
   "cell_type": "code",
   "execution_count": 2,
   "id": "82e14419",
   "metadata": {
    "execution": {
     "iopub.execute_input": "2024-05-19T08:04:42.790155Z",
     "iopub.status.busy": "2024-05-19T08:04:42.789625Z",
     "iopub.status.idle": "2024-05-19T08:04:45.368871Z",
     "shell.execute_reply": "2024-05-19T08:04:45.367721Z"
    },
    "papermill": {
     "duration": 2.589563,
     "end_time": "2024-05-19T08:04:45.371803",
     "exception": false,
     "start_time": "2024-05-19T08:04:42.782240",
     "status": "completed"
    },
    "tags": []
   },
   "outputs": [],
   "source": [
    "import pandas as pd\n",
    "import numpy as np\n",
    "import matplotlib.pyplot as plt\n",
    "import seaborn as sns\n",
    "import re\n",
    "import nltk"
   ]
  },
  {
   "cell_type": "code",
   "execution_count": 3,
   "id": "5c4edc5e",
   "metadata": {
    "execution": {
     "iopub.execute_input": "2024-05-19T08:04:45.385008Z",
     "iopub.status.busy": "2024-05-19T08:04:45.384581Z",
     "iopub.status.idle": "2024-05-19T08:04:48.544048Z",
     "shell.execute_reply": "2024-05-19T08:04:48.542912Z"
    },
    "papermill": {
     "duration": 3.168955,
     "end_time": "2024-05-19T08:04:48.546454",
     "exception": false,
     "start_time": "2024-05-19T08:04:45.377499",
     "status": "completed"
    },
    "tags": []
   },
   "outputs": [
    {
     "data": {
      "text/html": [
       "<div>\n",
       "<style scoped>\n",
       "    .dataframe tbody tr th:only-of-type {\n",
       "        vertical-align: middle;\n",
       "    }\n",
       "\n",
       "    .dataframe tbody tr th {\n",
       "        vertical-align: top;\n",
       "    }\n",
       "\n",
       "    .dataframe thead th {\n",
       "        text-align: right;\n",
       "    }\n",
       "</style>\n",
       "<table border=\"1\" class=\"dataframe\">\n",
       "  <thead>\n",
       "    <tr style=\"text-align: right;\">\n",
       "      <th></th>\n",
       "      <th>id</th>\n",
       "      <th>title</th>\n",
       "      <th>author</th>\n",
       "      <th>text</th>\n",
       "      <th>label</th>\n",
       "    </tr>\n",
       "  </thead>\n",
       "  <tbody>\n",
       "    <tr>\n",
       "      <th>0</th>\n",
       "      <td>0</td>\n",
       "      <td>House Dem Aide: We Didn’t Even See Comey’s Let...</td>\n",
       "      <td>Darrell Lucus</td>\n",
       "      <td>House Dem Aide: We Didn’t Even See Comey’s Let...</td>\n",
       "      <td>1</td>\n",
       "    </tr>\n",
       "    <tr>\n",
       "      <th>1</th>\n",
       "      <td>1</td>\n",
       "      <td>FLYNN: Hillary Clinton, Big Woman on Campus - ...</td>\n",
       "      <td>Daniel J. Flynn</td>\n",
       "      <td>Ever get the feeling your life circles the rou...</td>\n",
       "      <td>0</td>\n",
       "    </tr>\n",
       "    <tr>\n",
       "      <th>2</th>\n",
       "      <td>2</td>\n",
       "      <td>Why the Truth Might Get You Fired</td>\n",
       "      <td>Consortiumnews.com</td>\n",
       "      <td>Why the Truth Might Get You Fired October 29, ...</td>\n",
       "      <td>1</td>\n",
       "    </tr>\n",
       "    <tr>\n",
       "      <th>3</th>\n",
       "      <td>3</td>\n",
       "      <td>15 Civilians Killed In Single US Airstrike Hav...</td>\n",
       "      <td>Jessica Purkiss</td>\n",
       "      <td>Videos 15 Civilians Killed In Single US Airstr...</td>\n",
       "      <td>1</td>\n",
       "    </tr>\n",
       "    <tr>\n",
       "      <th>4</th>\n",
       "      <td>4</td>\n",
       "      <td>Iranian woman jailed for fictional unpublished...</td>\n",
       "      <td>Howard Portnoy</td>\n",
       "      <td>Print \\nAn Iranian woman has been sentenced to...</td>\n",
       "      <td>1</td>\n",
       "    </tr>\n",
       "  </tbody>\n",
       "</table>\n",
       "</div>"
      ],
      "text/plain": [
       "   id                                              title              author  \\\n",
       "0   0  House Dem Aide: We Didn’t Even See Comey’s Let...       Darrell Lucus   \n",
       "1   1  FLYNN: Hillary Clinton, Big Woman on Campus - ...     Daniel J. Flynn   \n",
       "2   2                  Why the Truth Might Get You Fired  Consortiumnews.com   \n",
       "3   3  15 Civilians Killed In Single US Airstrike Hav...     Jessica Purkiss   \n",
       "4   4  Iranian woman jailed for fictional unpublished...      Howard Portnoy   \n",
       "\n",
       "                                                text  label  \n",
       "0  House Dem Aide: We Didn’t Even See Comey’s Let...      1  \n",
       "1  Ever get the feeling your life circles the rou...      0  \n",
       "2  Why the Truth Might Get You Fired October 29, ...      1  \n",
       "3  Videos 15 Civilians Killed In Single US Airstr...      1  \n",
       "4  Print \\nAn Iranian woman has been sentenced to...      1  "
      ]
     },
     "execution_count": 3,
     "metadata": {},
     "output_type": "execute_result"
    }
   ],
   "source": [
    "df=pd.read_csv('/kaggle/input/fake-news/train.csv')\n",
    "df.head()"
   ]
  },
  {
   "cell_type": "code",
   "execution_count": 4,
   "id": "eb7625b2",
   "metadata": {
    "execution": {
     "iopub.execute_input": "2024-05-19T08:04:48.561030Z",
     "iopub.status.busy": "2024-05-19T08:04:48.560592Z",
     "iopub.status.idle": "2024-05-19T08:04:48.573590Z",
     "shell.execute_reply": "2024-05-19T08:04:48.572046Z"
    },
    "papermill": {
     "duration": 0.024315,
     "end_time": "2024-05-19T08:04:48.577198",
     "exception": false,
     "start_time": "2024-05-19T08:04:48.552883",
     "status": "completed"
    },
    "tags": []
   },
   "outputs": [],
   "source": [
    "#drop unnecessary columns\n",
    "df=df.drop(columns=['id','title','author'],axis=1)"
   ]
  },
  {
   "cell_type": "code",
   "execution_count": 5,
   "id": "8049e31a",
   "metadata": {
    "execution": {
     "iopub.execute_input": "2024-05-19T08:04:48.593685Z",
     "iopub.status.busy": "2024-05-19T08:04:48.593102Z",
     "iopub.status.idle": "2024-05-19T08:04:48.612294Z",
     "shell.execute_reply": "2024-05-19T08:04:48.611029Z"
    },
    "papermill": {
     "duration": 0.030577,
     "end_time": "2024-05-19T08:04:48.615282",
     "exception": false,
     "start_time": "2024-05-19T08:04:48.584705",
     "status": "completed"
    },
    "tags": []
   },
   "outputs": [],
   "source": [
    "#drop null values\n",
    "df=df.dropna(axis=0)"
   ]
  },
  {
   "cell_type": "code",
   "execution_count": 6,
   "id": "55168238",
   "metadata": {
    "execution": {
     "iopub.execute_input": "2024-05-19T08:04:48.630043Z",
     "iopub.status.busy": "2024-05-19T08:04:48.629514Z",
     "iopub.status.idle": "2024-05-19T08:04:48.636610Z",
     "shell.execute_reply": "2024-05-19T08:04:48.633764Z"
    },
    "papermill": {
     "duration": 0.019428,
     "end_time": "2024-05-19T08:04:48.640924",
     "exception": false,
     "start_time": "2024-05-19T08:04:48.621496",
     "status": "completed"
    },
    "tags": []
   },
   "outputs": [],
   "source": [
    "from nltk.corpus import stopwords"
   ]
  },
  {
   "cell_type": "code",
   "execution_count": 7,
   "id": "9a2cb758",
   "metadata": {
    "execution": {
     "iopub.execute_input": "2024-05-19T08:04:48.655326Z",
     "iopub.status.busy": "2024-05-19T08:04:48.654933Z",
     "iopub.status.idle": "2024-05-19T08:04:48.668488Z",
     "shell.execute_reply": "2024-05-19T08:04:48.667120Z"
    },
    "papermill": {
     "duration": 0.024114,
     "end_time": "2024-05-19T08:04:48.671350",
     "exception": false,
     "start_time": "2024-05-19T08:04:48.647236",
     "status": "completed"
    },
    "tags": []
   },
   "outputs": [],
   "source": [
    "# creating list of possible stopwords from nltk library\n",
    "stop=stopwords.words('english')\n",
    "\n",
    "def cleanText(txt):\n",
    "    #lowercain\n",
    "    txt=txt.lower()\n",
    "    #removing stopwords\n",
    "    txt=' '.join([word for word in txt.split() if word not in (stop)])\n",
    "    #removing non-alphabetic characters\n",
    "    txt=re.sub('[^A-Za-z0-9\\s]',' ',txt)\n",
    "    txt=re.sub('\\s',' ',txt)\n",
    "    return txt"
   ]
  },
  {
   "cell_type": "code",
   "execution_count": 8,
   "id": "64f99e3d",
   "metadata": {
    "execution": {
     "iopub.execute_input": "2024-05-19T08:04:48.687340Z",
     "iopub.status.busy": "2024-05-19T08:04:48.686883Z",
     "iopub.status.idle": "2024-05-19T08:05:31.815569Z",
     "shell.execute_reply": "2024-05-19T08:05:31.814479Z"
    },
    "papermill": {
     "duration": 43.144899,
     "end_time": "2024-05-19T08:05:31.824109",
     "exception": false,
     "start_time": "2024-05-19T08:04:48.679210",
     "status": "completed"
    },
    "tags": []
   },
   "outputs": [
    {
     "data": {
      "text/html": [
       "<div>\n",
       "<style scoped>\n",
       "    .dataframe tbody tr th:only-of-type {\n",
       "        vertical-align: middle;\n",
       "    }\n",
       "\n",
       "    .dataframe tbody tr th {\n",
       "        vertical-align: top;\n",
       "    }\n",
       "\n",
       "    .dataframe thead th {\n",
       "        text-align: right;\n",
       "    }\n",
       "</style>\n",
       "<table border=\"1\" class=\"dataframe\">\n",
       "  <thead>\n",
       "    <tr style=\"text-align: right;\">\n",
       "      <th></th>\n",
       "      <th>text</th>\n",
       "      <th>label</th>\n",
       "    </tr>\n",
       "  </thead>\n",
       "  <tbody>\n",
       "    <tr>\n",
       "      <th>0</th>\n",
       "      <td>house dem aide  didn t even see comey s letter...</td>\n",
       "      <td>1</td>\n",
       "    </tr>\n",
       "    <tr>\n",
       "      <th>1</th>\n",
       "      <td>ever get feeling life circles roundabout rathe...</td>\n",
       "      <td>0</td>\n",
       "    </tr>\n",
       "    <tr>\n",
       "      <th>2</th>\n",
       "      <td>truth might get fired october 29  2016 tension...</td>\n",
       "      <td>1</td>\n",
       "    </tr>\n",
       "    <tr>\n",
       "      <th>3</th>\n",
       "      <td>videos 15 civilians killed single us airstrike...</td>\n",
       "      <td>1</td>\n",
       "    </tr>\n",
       "    <tr>\n",
       "      <th>4</th>\n",
       "      <td>print iranian woman sentenced six years prison...</td>\n",
       "      <td>1</td>\n",
       "    </tr>\n",
       "  </tbody>\n",
       "</table>\n",
       "</div>"
      ],
      "text/plain": [
       "                                                text  label\n",
       "0  house dem aide  didn t even see comey s letter...      1\n",
       "1  ever get feeling life circles roundabout rathe...      0\n",
       "2  truth might get fired october 29  2016 tension...      1\n",
       "3  videos 15 civilians killed single us airstrike...      1\n",
       "4  print iranian woman sentenced six years prison...      1"
      ]
     },
     "execution_count": 8,
     "metadata": {},
     "output_type": "execute_result"
    }
   ],
   "source": [
    "#applying text cleaning function to clean final_news\n",
    "df['text']=df['text'].apply(cleanText)\n",
    "df.head()"
   ]
  },
  {
   "cell_type": "code",
   "execution_count": 9,
   "id": "ff09f5bf",
   "metadata": {
    "execution": {
     "iopub.execute_input": "2024-05-19T08:05:31.839102Z",
     "iopub.status.busy": "2024-05-19T08:05:31.838714Z",
     "iopub.status.idle": "2024-05-19T08:05:46.590327Z",
     "shell.execute_reply": "2024-05-19T08:05:46.589092Z"
    },
    "papermill": {
     "duration": 14.762729,
     "end_time": "2024-05-19T08:05:46.593083",
     "exception": false,
     "start_time": "2024-05-19T08:05:31.830354",
     "status": "completed"
    },
    "tags": []
   },
   "outputs": [
    {
     "name": "stderr",
     "output_type": "stream",
     "text": [
      "2024-05-19 08:05:34.150480: E external/local_xla/xla/stream_executor/cuda/cuda_dnn.cc:9261] Unable to register cuDNN factory: Attempting to register factory for plugin cuDNN when one has already been registered\n",
      "2024-05-19 08:05:34.150611: E external/local_xla/xla/stream_executor/cuda/cuda_fft.cc:607] Unable to register cuFFT factory: Attempting to register factory for plugin cuFFT when one has already been registered\n",
      "2024-05-19 08:05:34.316675: E external/local_xla/xla/stream_executor/cuda/cuda_blas.cc:1515] Unable to register cuBLAS factory: Attempting to register factory for plugin cuBLAS when one has already been registered\n"
     ]
    }
   ],
   "source": [
    "from tensorflow.keras.preprocessing.text import Tokenizer\n",
    "from tensorflow.keras.preprocessing.sequence import pad_sequences"
   ]
  },
  {
   "cell_type": "code",
   "execution_count": 10,
   "id": "643b6d16",
   "metadata": {
    "execution": {
     "iopub.execute_input": "2024-05-19T08:05:46.609089Z",
     "iopub.status.busy": "2024-05-19T08:05:46.607803Z",
     "iopub.status.idle": "2024-05-19T08:05:58.167257Z",
     "shell.execute_reply": "2024-05-19T08:05:58.165976Z"
    },
    "papermill": {
     "duration": 11.570432,
     "end_time": "2024-05-19T08:05:58.170104",
     "exception": false,
     "start_time": "2024-05-19T08:05:46.599672",
     "status": "completed"
    },
    "tags": []
   },
   "outputs": [],
   "source": [
    "# tokenize \n",
    "tokenizer=Tokenizer()\n",
    "tokenizer.fit_on_texts(df['text'])\n",
    "\n",
    "word_index=tokenizer.word_index\n",
    "\n",
    "vocab_size=len(word_index)"
   ]
  },
  {
   "cell_type": "code",
   "execution_count": 11,
   "id": "873d82a2",
   "metadata": {
    "execution": {
     "iopub.execute_input": "2024-05-19T08:05:58.185000Z",
     "iopub.status.busy": "2024-05-19T08:05:58.184550Z",
     "iopub.status.idle": "2024-05-19T08:06:05.895465Z",
     "shell.execute_reply": "2024-05-19T08:06:05.894069Z"
    },
    "papermill": {
     "duration": 7.721661,
     "end_time": "2024-05-19T08:06:05.898425",
     "exception": false,
     "start_time": "2024-05-19T08:05:58.176764",
     "status": "completed"
    },
    "tags": []
   },
   "outputs": [],
   "source": [
    "sent_length=500\n",
    "\n",
    "sequences=tokenizer.texts_to_sequences(df['text'])\n",
    "padded_seq=pad_sequences(sequences,maxlen=sent_length,padding='post',truncating='post')"
   ]
  },
  {
   "cell_type": "code",
   "execution_count": 12,
   "id": "f5e1bcaf",
   "metadata": {
    "execution": {
     "iopub.execute_input": "2024-05-19T08:06:05.913220Z",
     "iopub.status.busy": "2024-05-19T08:06:05.912773Z",
     "iopub.status.idle": "2024-05-19T08:06:05.944460Z",
     "shell.execute_reply": "2024-05-19T08:06:05.943130Z"
    },
    "papermill": {
     "duration": 0.042131,
     "end_time": "2024-05-19T08:06:05.947187",
     "exception": false,
     "start_time": "2024-05-19T08:06:05.905056",
     "status": "completed"
    },
    "tags": []
   },
   "outputs": [],
   "source": [
    "from sklearn.model_selection import train_test_split\n",
    "X_train,X_test,y_train,y_test=train_test_split(padded_seq,df['label'],test_size=0.20,random_state=42,)"
   ]
  },
  {
   "cell_type": "code",
   "execution_count": 13,
   "id": "6766a745",
   "metadata": {
    "execution": {
     "iopub.execute_input": "2024-05-19T08:06:05.961916Z",
     "iopub.status.busy": "2024-05-19T08:06:05.961506Z",
     "iopub.status.idle": "2024-05-19T08:28:00.429751Z",
     "shell.execute_reply": "2024-05-19T08:28:00.428607Z"
    },
    "papermill": {
     "duration": 1314.478446,
     "end_time": "2024-05-19T08:28:00.432188",
     "exception": false,
     "start_time": "2024-05-19T08:06:05.953742",
     "status": "completed"
    },
    "tags": []
   },
   "outputs": [
    {
     "name": "stderr",
     "output_type": "stream",
     "text": [
      "/opt/conda/lib/python3.10/site-packages/keras/src/layers/core/embedding.py:86: UserWarning: Argument `input_length` is deprecated. Just remove it.\n",
      "  warnings.warn(\n"
     ]
    },
    {
     "data": {
      "text/html": [
       "<pre style=\"white-space:pre;overflow-x:auto;line-height:normal;font-family:Menlo,'DejaVu Sans Mono',consolas,'Courier New',monospace\"><span style=\"font-weight: bold\">Model: \"sequential\"</span>\n",
       "</pre>\n"
      ],
      "text/plain": [
       "\u001b[1mModel: \"sequential\"\u001b[0m\n"
      ]
     },
     "metadata": {},
     "output_type": "display_data"
    },
    {
     "data": {
      "text/html": [
       "<pre style=\"white-space:pre;overflow-x:auto;line-height:normal;font-family:Menlo,'DejaVu Sans Mono',consolas,'Courier New',monospace\">┏━━━━━━━━━━━━━━━━━━━━━━━━━━━━━━━━━┳━━━━━━━━━━━━━━━━━━━━━━━━┳━━━━━━━━━━━━━━━┓\n",
       "┃<span style=\"font-weight: bold\"> Layer (type)                    </span>┃<span style=\"font-weight: bold\"> Output Shape           </span>┃<span style=\"font-weight: bold\">       Param # </span>┃\n",
       "┡━━━━━━━━━━━━━━━━━━━━━━━━━━━━━━━━━╇━━━━━━━━━━━━━━━━━━━━━━━━╇━━━━━━━━━━━━━━━┩\n",
       "│ embedding (<span style=\"color: #0087ff; text-decoration-color: #0087ff\">Embedding</span>)           │ (<span style=\"color: #00d7ff; text-decoration-color: #00d7ff\">None</span>, <span style=\"color: #00af00; text-decoration-color: #00af00\">500</span>, <span style=\"color: #00af00; text-decoration-color: #00af00\">40</span>)        │       <span style=\"color: #00af00; text-decoration-color: #00af00\">400,000</span> │\n",
       "├─────────────────────────────────┼────────────────────────┼───────────────┤\n",
       "│ conv1d (<span style=\"color: #0087ff; text-decoration-color: #0087ff\">Conv1D</span>)                 │ (<span style=\"color: #00d7ff; text-decoration-color: #00d7ff\">None</span>, <span style=\"color: #00af00; text-decoration-color: #00af00\">500</span>, <span style=\"color: #00af00; text-decoration-color: #00af00\">32</span>)        │         <span style=\"color: #00af00; text-decoration-color: #00af00\">3,872</span> │\n",
       "├─────────────────────────────────┼────────────────────────┼───────────────┤\n",
       "│ max_pooling1d (<span style=\"color: #0087ff; text-decoration-color: #0087ff\">MaxPooling1D</span>)    │ (<span style=\"color: #00d7ff; text-decoration-color: #00d7ff\">None</span>, <span style=\"color: #00af00; text-decoration-color: #00af00\">250</span>, <span style=\"color: #00af00; text-decoration-color: #00af00\">32</span>)        │             <span style=\"color: #00af00; text-decoration-color: #00af00\">0</span> │\n",
       "├─────────────────────────────────┼────────────────────────┼───────────────┤\n",
       "│ bidirectional (<span style=\"color: #0087ff; text-decoration-color: #0087ff\">Bidirectional</span>)   │ (<span style=\"color: #00d7ff; text-decoration-color: #00d7ff\">None</span>, <span style=\"color: #00af00; text-decoration-color: #00af00\">200</span>)            │       <span style=\"color: #00af00; text-decoration-color: #00af00\">106,400</span> │\n",
       "├─────────────────────────────────┼────────────────────────┼───────────────┤\n",
       "│ dropout (<span style=\"color: #0087ff; text-decoration-color: #0087ff\">Dropout</span>)               │ (<span style=\"color: #00d7ff; text-decoration-color: #00d7ff\">None</span>, <span style=\"color: #00af00; text-decoration-color: #00af00\">200</span>)            │             <span style=\"color: #00af00; text-decoration-color: #00af00\">0</span> │\n",
       "├─────────────────────────────────┼────────────────────────┼───────────────┤\n",
       "│ dense (<span style=\"color: #0087ff; text-decoration-color: #0087ff\">Dense</span>)                   │ (<span style=\"color: #00d7ff; text-decoration-color: #00d7ff\">None</span>, <span style=\"color: #00af00; text-decoration-color: #00af00\">1</span>)              │           <span style=\"color: #00af00; text-decoration-color: #00af00\">201</span> │\n",
       "└─────────────────────────────────┴────────────────────────┴───────────────┘\n",
       "</pre>\n"
      ],
      "text/plain": [
       "┏━━━━━━━━━━━━━━━━━━━━━━━━━━━━━━━━━┳━━━━━━━━━━━━━━━━━━━━━━━━┳━━━━━━━━━━━━━━━┓\n",
       "┃\u001b[1m \u001b[0m\u001b[1mLayer (type)                   \u001b[0m\u001b[1m \u001b[0m┃\u001b[1m \u001b[0m\u001b[1mOutput Shape          \u001b[0m\u001b[1m \u001b[0m┃\u001b[1m \u001b[0m\u001b[1m      Param #\u001b[0m\u001b[1m \u001b[0m┃\n",
       "┡━━━━━━━━━━━━━━━━━━━━━━━━━━━━━━━━━╇━━━━━━━━━━━━━━━━━━━━━━━━╇━━━━━━━━━━━━━━━┩\n",
       "│ embedding (\u001b[38;5;33mEmbedding\u001b[0m)           │ (\u001b[38;5;45mNone\u001b[0m, \u001b[38;5;34m500\u001b[0m, \u001b[38;5;34m40\u001b[0m)        │       \u001b[38;5;34m400,000\u001b[0m │\n",
       "├─────────────────────────────────┼────────────────────────┼───────────────┤\n",
       "│ conv1d (\u001b[38;5;33mConv1D\u001b[0m)                 │ (\u001b[38;5;45mNone\u001b[0m, \u001b[38;5;34m500\u001b[0m, \u001b[38;5;34m32\u001b[0m)        │         \u001b[38;5;34m3,872\u001b[0m │\n",
       "├─────────────────────────────────┼────────────────────────┼───────────────┤\n",
       "│ max_pooling1d (\u001b[38;5;33mMaxPooling1D\u001b[0m)    │ (\u001b[38;5;45mNone\u001b[0m, \u001b[38;5;34m250\u001b[0m, \u001b[38;5;34m32\u001b[0m)        │             \u001b[38;5;34m0\u001b[0m │\n",
       "├─────────────────────────────────┼────────────────────────┼───────────────┤\n",
       "│ bidirectional (\u001b[38;5;33mBidirectional\u001b[0m)   │ (\u001b[38;5;45mNone\u001b[0m, \u001b[38;5;34m200\u001b[0m)            │       \u001b[38;5;34m106,400\u001b[0m │\n",
       "├─────────────────────────────────┼────────────────────────┼───────────────┤\n",
       "│ dropout (\u001b[38;5;33mDropout\u001b[0m)               │ (\u001b[38;5;45mNone\u001b[0m, \u001b[38;5;34m200\u001b[0m)            │             \u001b[38;5;34m0\u001b[0m │\n",
       "├─────────────────────────────────┼────────────────────────┼───────────────┤\n",
       "│ dense (\u001b[38;5;33mDense\u001b[0m)                   │ (\u001b[38;5;45mNone\u001b[0m, \u001b[38;5;34m1\u001b[0m)              │           \u001b[38;5;34m201\u001b[0m │\n",
       "└─────────────────────────────────┴────────────────────────┴───────────────┘\n"
      ]
     },
     "metadata": {},
     "output_type": "display_data"
    },
    {
     "data": {
      "text/html": [
       "<pre style=\"white-space:pre;overflow-x:auto;line-height:normal;font-family:Menlo,'DejaVu Sans Mono',consolas,'Courier New',monospace\"><span style=\"font-weight: bold\"> Total params: </span><span style=\"color: #00af00; text-decoration-color: #00af00\">510,473</span> (1.95 MB)\n",
       "</pre>\n"
      ],
      "text/plain": [
       "\u001b[1m Total params: \u001b[0m\u001b[38;5;34m510,473\u001b[0m (1.95 MB)\n"
      ]
     },
     "metadata": {},
     "output_type": "display_data"
    },
    {
     "data": {
      "text/html": [
       "<pre style=\"white-space:pre;overflow-x:auto;line-height:normal;font-family:Menlo,'DejaVu Sans Mono',consolas,'Courier New',monospace\"><span style=\"font-weight: bold\"> Trainable params: </span><span style=\"color: #00af00; text-decoration-color: #00af00\">510,473</span> (1.95 MB)\n",
       "</pre>\n"
      ],
      "text/plain": [
       "\u001b[1m Trainable params: \u001b[0m\u001b[38;5;34m510,473\u001b[0m (1.95 MB)\n"
      ]
     },
     "metadata": {},
     "output_type": "display_data"
    },
    {
     "data": {
      "text/html": [
       "<pre style=\"white-space:pre;overflow-x:auto;line-height:normal;font-family:Menlo,'DejaVu Sans Mono',consolas,'Courier New',monospace\"><span style=\"font-weight: bold\"> Non-trainable params: </span><span style=\"color: #00af00; text-decoration-color: #00af00\">0</span> (0.00 B)\n",
       "</pre>\n"
      ],
      "text/plain": [
       "\u001b[1m Non-trainable params: \u001b[0m\u001b[38;5;34m0\u001b[0m (0.00 B)\n"
      ]
     },
     "metadata": {},
     "output_type": "display_data"
    },
    {
     "name": "stdout",
     "output_type": "stream",
     "text": [
      "None\n",
      "Epoch 1/10\n",
      "\u001b[1m260/260\u001b[0m \u001b[32m━━━━━━━━━━━━━━━━━━━━\u001b[0m\u001b[37m\u001b[0m \u001b[1m108s\u001b[0m 396ms/step - accuracy: 0.7724 - loss: 0.4229 - val_accuracy: 0.9068 - val_loss: 0.2375\n",
      "Epoch 2/10\n",
      "\u001b[1m260/260\u001b[0m \u001b[32m━━━━━━━━━━━━━━━━━━━━\u001b[0m\u001b[37m\u001b[0m \u001b[1m141s\u001b[0m 392ms/step - accuracy: 0.9774 - loss: 0.0772 - val_accuracy: 0.9564 - val_loss: 0.1341\n",
      "Epoch 3/10\n",
      "\u001b[1m260/260\u001b[0m \u001b[32m━━━━━━━━━━━━━━━━━━━━\u001b[0m\u001b[37m\u001b[0m \u001b[1m101s\u001b[0m 389ms/step - accuracy: 0.9899 - loss: 0.0343 - val_accuracy: 0.9523 - val_loss: 0.1421\n",
      "Epoch 4/10\n",
      "\u001b[1m260/260\u001b[0m \u001b[32m━━━━━━━━━━━━━━━━━━━━\u001b[0m\u001b[37m\u001b[0m \u001b[1m143s\u001b[0m 392ms/step - accuracy: 0.9948 - loss: 0.0197 - val_accuracy: 0.9562 - val_loss: 0.1483\n",
      "Epoch 5/10\n",
      "\u001b[1m260/260\u001b[0m \u001b[32m━━━━━━━━━━━━━━━━━━━━\u001b[0m\u001b[37m\u001b[0m \u001b[1m142s\u001b[0m 394ms/step - accuracy: 0.9949 - loss: 0.0174 - val_accuracy: 0.9465 - val_loss: 0.2002\n",
      "Epoch 6/10\n",
      "\u001b[1m260/260\u001b[0m \u001b[32m━━━━━━━━━━━━━━━━━━━━\u001b[0m\u001b[37m\u001b[0m \u001b[1m141s\u001b[0m 392ms/step - accuracy: 0.9975 - loss: 0.0097 - val_accuracy: 0.9552 - val_loss: 0.1908\n",
      "Epoch 7/10\n",
      "\u001b[1m260/260\u001b[0m \u001b[32m━━━━━━━━━━━━━━━━━━━━\u001b[0m\u001b[37m\u001b[0m \u001b[1m142s\u001b[0m 394ms/step - accuracy: 0.9985 - loss: 0.0046 - val_accuracy: 0.9405 - val_loss: 0.1916\n",
      "Epoch 8/10\n",
      "\u001b[1m260/260\u001b[0m \u001b[32m━━━━━━━━━━━━━━━━━━━━\u001b[0m\u001b[37m\u001b[0m \u001b[1m142s\u001b[0m 394ms/step - accuracy: 0.9985 - loss: 0.0073 - val_accuracy: 0.9567 - val_loss: 0.2063\n",
      "Epoch 9/10\n",
      "\u001b[1m260/260\u001b[0m \u001b[32m━━━━━━━━━━━━━━━━━━━━\u001b[0m\u001b[37m\u001b[0m \u001b[1m103s\u001b[0m 397ms/step - accuracy: 0.9978 - loss: 0.0078 - val_accuracy: 0.9552 - val_loss: 0.2349\n",
      "Epoch 10/10\n",
      "\u001b[1m260/260\u001b[0m \u001b[32m━━━━━━━━━━━━━━━━━━━━\u001b[0m\u001b[37m\u001b[0m \u001b[1m103s\u001b[0m 397ms/step - accuracy: 0.9997 - loss: 0.0023 - val_accuracy: 0.9485 - val_loss: 0.2686\n",
      "\u001b[1m130/130\u001b[0m \u001b[32m━━━━━━━━━━━━━━━━━━━━\u001b[0m\u001b[37m\u001b[0m \u001b[1m9s\u001b[0m 66ms/step - accuracy: 0.9499 - loss: 0.2623\n",
      "Test Loss: 0.26863396167755127\n",
      "Test Accuracy: 0.9484710097312927\n"
     ]
    }
   ],
   "source": [
    "import numpy as np\n",
    "import pandas as pd\n",
    "import tensorflow as tf\n",
    "from tensorflow.keras.layers import Conv1D, MaxPooling1D, LSTM, Dropout, Dense, Embedding, Bidirectional\n",
    "from tensorflow.keras.models import Sequential\n",
    "from sklearn.model_selection import train_test_split\n",
    "\n",
    "\n",
    "# Example vocab_size definition (should be obtained from your tokenizer)\n",
    "vocab_size = 10000  # Replace with the actual vocabulary size from your tokenizer\n",
    "embedding_vector_features = 40\n",
    "sent_length = 500  # Should match the input length used in padding\n",
    "\n",
    "# Splitting the data into training and test sets\n",
    "X_train, X_test, y_train, y_test = train_test_split(padded_seq, df['label'], test_size=0.20, random_state=42)\n",
    "\n",
    "# Define and build the CNN-LSTM model\n",
    "model = Sequential()\n",
    "\n",
    "# Add embedding layer\n",
    "model.add(Embedding(input_dim=vocab_size, output_dim=embedding_vector_features, input_length=sent_length))\n",
    "\n",
    "# Add Conv1D layer\n",
    "model.add(Conv1D(filters=32, kernel_size=3, padding='same', activation='relu'))\n",
    "\n",
    "# Add MaxPooling1D layer\n",
    "model.add(MaxPooling1D(pool_size=2))\n",
    "\n",
    "# Add Bidirectional LSTM layer\n",
    "model.add(Bidirectional(LSTM(100)))\n",
    "\n",
    "# Add Dropout layer\n",
    "model.add(Dropout(0.3))\n",
    "\n",
    "# Add Dense output layer\n",
    "model.add(Dense(1, activation='sigmoid'))\n",
    "\n",
    "# Compile the model\n",
    "model.compile(loss='binary_crossentropy', optimizer='adam', metrics=['accuracy'])\n",
    "\n",
    "# Print model summary\n",
    "model.build(input_shape=(None, sent_length))\n",
    "print(model.summary())\n",
    "\n",
    "# Train the model\n",
    "history = model.fit(X_train, y_train, validation_data=(X_test, y_test), epochs=10, batch_size=64)\n",
    "\n",
    "# Evaluate the model on test data\n",
    "test_loss, test_accuracy = model.evaluate(X_test, y_test)\n",
    "print(f'Test Loss: {test_loss}')\n",
    "print(f'Test Accuracy: {test_accuracy}')\n"
   ]
  },
  {
   "cell_type": "code",
   "execution_count": null,
   "id": "a972b3ee",
   "metadata": {
    "papermill": {
     "duration": 0.272632,
     "end_time": "2024-05-19T08:28:00.973308",
     "exception": false,
     "start_time": "2024-05-19T08:28:00.700676",
     "status": "completed"
    },
    "tags": []
   },
   "outputs": [],
   "source": []
  }
 ],
 "metadata": {
  "kaggle": {
   "accelerator": "none",
   "dataSources": [
    {
     "databundleVersionId": 109592,
     "sourceId": 8317,
     "sourceType": "competition"
    }
   ],
   "dockerImageVersionId": 30698,
   "isGpuEnabled": false,
   "isInternetEnabled": false,
   "language": "python",
   "sourceType": "notebook"
  },
  "kernelspec": {
   "display_name": "Python 3",
   "language": "python",
   "name": "python3"
  },
  "language_info": {
   "codemirror_mode": {
    "name": "ipython",
    "version": 3
   },
   "file_extension": ".py",
   "mimetype": "text/x-python",
   "name": "python",
   "nbconvert_exporter": "python",
   "pygments_lexer": "ipython3",
   "version": "3.10.13"
  },
  "papermill": {
   "default_parameters": {},
   "duration": 1405.017851,
   "end_time": "2024-05-19T08:28:03.581548",
   "environment_variables": {},
   "exception": null,
   "input_path": "__notebook__.ipynb",
   "output_path": "__notebook__.ipynb",
   "parameters": {},
   "start_time": "2024-05-19T08:04:38.563697",
   "version": "2.5.0"
  }
 },
 "nbformat": 4,
 "nbformat_minor": 5
}
